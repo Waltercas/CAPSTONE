{
 "cells": [
  {
   "cell_type": "code",
   "execution_count": 114,
   "id": "cf2c66f9-48b9-4e58-8900-f3834eb530b8",
   "metadata": {},
   "outputs": [],
   "source": [
    "import csv\n",
    "import pandas as pd\n",
    "import numpy as np\n",
    "import matplotlib.pyplot as plt\n",
    "from scipy import stats\n",
    "from numpy import cov\n",
    "import seaborn as sns\n",
    "diamonddf = pd.read_csv('diamonds.csv')\n"
   ]
  },
  {
   "cell_type": "code",
   "execution_count": 2,
   "id": "449ad770-bc28-4114-a8d6-46716ea2b4ad",
   "metadata": {},
   "outputs": [
    {
     "data": {
      "text/html": [
       "<div>\n",
       "<style scoped>\n",
       "    .dataframe tbody tr th:only-of-type {\n",
       "        vertical-align: middle;\n",
       "    }\n",
       "\n",
       "    .dataframe tbody tr th {\n",
       "        vertical-align: top;\n",
       "    }\n",
       "\n",
       "    .dataframe thead th {\n",
       "        text-align: right;\n",
       "    }\n",
       "</style>\n",
       "<table border=\"1\" class=\"dataframe\">\n",
       "  <thead>\n",
       "    <tr style=\"text-align: right;\">\n",
       "      <th></th>\n",
       "      <th>Unnamed: 0</th>\n",
       "      <th>carat</th>\n",
       "      <th>cut</th>\n",
       "      <th>color</th>\n",
       "      <th>clarity</th>\n",
       "      <th>depth</th>\n",
       "      <th>table</th>\n",
       "      <th>price</th>\n",
       "      <th>x</th>\n",
       "      <th>y</th>\n",
       "      <th>z</th>\n",
       "    </tr>\n",
       "  </thead>\n",
       "  <tbody>\n",
       "    <tr>\n",
       "      <th>0</th>\n",
       "      <td>1</td>\n",
       "      <td>0.23</td>\n",
       "      <td>Ideal</td>\n",
       "      <td>E</td>\n",
       "      <td>SI2</td>\n",
       "      <td>61.5</td>\n",
       "      <td>55.0</td>\n",
       "      <td>326</td>\n",
       "      <td>3.95</td>\n",
       "      <td>3.98</td>\n",
       "      <td>2.43</td>\n",
       "    </tr>\n",
       "    <tr>\n",
       "      <th>1</th>\n",
       "      <td>2</td>\n",
       "      <td>0.21</td>\n",
       "      <td>Premium</td>\n",
       "      <td>E</td>\n",
       "      <td>SI1</td>\n",
       "      <td>59.8</td>\n",
       "      <td>61.0</td>\n",
       "      <td>326</td>\n",
       "      <td>3.89</td>\n",
       "      <td>3.84</td>\n",
       "      <td>2.31</td>\n",
       "    </tr>\n",
       "    <tr>\n",
       "      <th>2</th>\n",
       "      <td>3</td>\n",
       "      <td>0.23</td>\n",
       "      <td>Good</td>\n",
       "      <td>E</td>\n",
       "      <td>VS1</td>\n",
       "      <td>56.9</td>\n",
       "      <td>65.0</td>\n",
       "      <td>327</td>\n",
       "      <td>4.05</td>\n",
       "      <td>4.07</td>\n",
       "      <td>2.31</td>\n",
       "    </tr>\n",
       "    <tr>\n",
       "      <th>3</th>\n",
       "      <td>4</td>\n",
       "      <td>0.29</td>\n",
       "      <td>Premium</td>\n",
       "      <td>I</td>\n",
       "      <td>VS2</td>\n",
       "      <td>62.4</td>\n",
       "      <td>58.0</td>\n",
       "      <td>334</td>\n",
       "      <td>4.20</td>\n",
       "      <td>4.23</td>\n",
       "      <td>2.63</td>\n",
       "    </tr>\n",
       "    <tr>\n",
       "      <th>4</th>\n",
       "      <td>5</td>\n",
       "      <td>0.31</td>\n",
       "      <td>Good</td>\n",
       "      <td>J</td>\n",
       "      <td>SI2</td>\n",
       "      <td>63.3</td>\n",
       "      <td>58.0</td>\n",
       "      <td>335</td>\n",
       "      <td>4.34</td>\n",
       "      <td>4.35</td>\n",
       "      <td>2.75</td>\n",
       "    </tr>\n",
       "  </tbody>\n",
       "</table>\n",
       "</div>"
      ],
      "text/plain": [
       "   Unnamed: 0  carat      cut color clarity  depth  table  price     x     y  \\\n",
       "0           1   0.23    Ideal     E     SI2   61.5   55.0    326  3.95  3.98   \n",
       "1           2   0.21  Premium     E     SI1   59.8   61.0    326  3.89  3.84   \n",
       "2           3   0.23     Good     E     VS1   56.9   65.0    327  4.05  4.07   \n",
       "3           4   0.29  Premium     I     VS2   62.4   58.0    334  4.20  4.23   \n",
       "4           5   0.31     Good     J     SI2   63.3   58.0    335  4.34  4.35   \n",
       "\n",
       "      z  \n",
       "0  2.43  \n",
       "1  2.31  \n",
       "2  2.31  \n",
       "3  2.63  \n",
       "4  2.75  "
      ]
     },
     "execution_count": 2,
     "metadata": {},
     "output_type": "execute_result"
    }
   ],
   "source": [
    "diamonddf.head()"
   ]
  },
  {
   "cell_type": "code",
   "execution_count": 3,
   "id": "da7ac862-a725-4148-b405-3b6a23b2897b",
   "metadata": {},
   "outputs": [
    {
     "data": {
      "text/html": [
       "<div>\n",
       "<style scoped>\n",
       "    .dataframe tbody tr th:only-of-type {\n",
       "        vertical-align: middle;\n",
       "    }\n",
       "\n",
       "    .dataframe tbody tr th {\n",
       "        vertical-align: top;\n",
       "    }\n",
       "\n",
       "    .dataframe thead th {\n",
       "        text-align: right;\n",
       "    }\n",
       "</style>\n",
       "<table border=\"1\" class=\"dataframe\">\n",
       "  <thead>\n",
       "    <tr style=\"text-align: right;\">\n",
       "      <th></th>\n",
       "      <th>Unnamed: 0</th>\n",
       "      <th>carat</th>\n",
       "      <th>depth</th>\n",
       "      <th>table</th>\n",
       "      <th>price</th>\n",
       "      <th>x</th>\n",
       "      <th>y</th>\n",
       "      <th>z</th>\n",
       "    </tr>\n",
       "  </thead>\n",
       "  <tbody>\n",
       "    <tr>\n",
       "      <th>count</th>\n",
       "      <td>53940.000000</td>\n",
       "      <td>53940.000000</td>\n",
       "      <td>53940.000000</td>\n",
       "      <td>53940.000000</td>\n",
       "      <td>53940.000000</td>\n",
       "      <td>53940.000000</td>\n",
       "      <td>53940.000000</td>\n",
       "      <td>53940.000000</td>\n",
       "    </tr>\n",
       "    <tr>\n",
       "      <th>mean</th>\n",
       "      <td>26970.500000</td>\n",
       "      <td>0.797940</td>\n",
       "      <td>61.749405</td>\n",
       "      <td>57.457184</td>\n",
       "      <td>3932.799722</td>\n",
       "      <td>5.731157</td>\n",
       "      <td>5.734526</td>\n",
       "      <td>3.538734</td>\n",
       "    </tr>\n",
       "    <tr>\n",
       "      <th>std</th>\n",
       "      <td>15571.281097</td>\n",
       "      <td>0.474011</td>\n",
       "      <td>1.432621</td>\n",
       "      <td>2.234491</td>\n",
       "      <td>3989.439738</td>\n",
       "      <td>1.121761</td>\n",
       "      <td>1.142135</td>\n",
       "      <td>0.705699</td>\n",
       "    </tr>\n",
       "    <tr>\n",
       "      <th>min</th>\n",
       "      <td>1.000000</td>\n",
       "      <td>0.200000</td>\n",
       "      <td>43.000000</td>\n",
       "      <td>43.000000</td>\n",
       "      <td>326.000000</td>\n",
       "      <td>0.000000</td>\n",
       "      <td>0.000000</td>\n",
       "      <td>0.000000</td>\n",
       "    </tr>\n",
       "    <tr>\n",
       "      <th>25%</th>\n",
       "      <td>13485.750000</td>\n",
       "      <td>0.400000</td>\n",
       "      <td>61.000000</td>\n",
       "      <td>56.000000</td>\n",
       "      <td>950.000000</td>\n",
       "      <td>4.710000</td>\n",
       "      <td>4.720000</td>\n",
       "      <td>2.910000</td>\n",
       "    </tr>\n",
       "    <tr>\n",
       "      <th>50%</th>\n",
       "      <td>26970.500000</td>\n",
       "      <td>0.700000</td>\n",
       "      <td>61.800000</td>\n",
       "      <td>57.000000</td>\n",
       "      <td>2401.000000</td>\n",
       "      <td>5.700000</td>\n",
       "      <td>5.710000</td>\n",
       "      <td>3.530000</td>\n",
       "    </tr>\n",
       "    <tr>\n",
       "      <th>75%</th>\n",
       "      <td>40455.250000</td>\n",
       "      <td>1.040000</td>\n",
       "      <td>62.500000</td>\n",
       "      <td>59.000000</td>\n",
       "      <td>5324.250000</td>\n",
       "      <td>6.540000</td>\n",
       "      <td>6.540000</td>\n",
       "      <td>4.040000</td>\n",
       "    </tr>\n",
       "    <tr>\n",
       "      <th>max</th>\n",
       "      <td>53940.000000</td>\n",
       "      <td>5.010000</td>\n",
       "      <td>79.000000</td>\n",
       "      <td>95.000000</td>\n",
       "      <td>18823.000000</td>\n",
       "      <td>10.740000</td>\n",
       "      <td>58.900000</td>\n",
       "      <td>31.800000</td>\n",
       "    </tr>\n",
       "  </tbody>\n",
       "</table>\n",
       "</div>"
      ],
      "text/plain": [
       "         Unnamed: 0         carat         depth         table         price  \\\n",
       "count  53940.000000  53940.000000  53940.000000  53940.000000  53940.000000   \n",
       "mean   26970.500000      0.797940     61.749405     57.457184   3932.799722   \n",
       "std    15571.281097      0.474011      1.432621      2.234491   3989.439738   \n",
       "min        1.000000      0.200000     43.000000     43.000000    326.000000   \n",
       "25%    13485.750000      0.400000     61.000000     56.000000    950.000000   \n",
       "50%    26970.500000      0.700000     61.800000     57.000000   2401.000000   \n",
       "75%    40455.250000      1.040000     62.500000     59.000000   5324.250000   \n",
       "max    53940.000000      5.010000     79.000000     95.000000  18823.000000   \n",
       "\n",
       "                  x             y             z  \n",
       "count  53940.000000  53940.000000  53940.000000  \n",
       "mean       5.731157      5.734526      3.538734  \n",
       "std        1.121761      1.142135      0.705699  \n",
       "min        0.000000      0.000000      0.000000  \n",
       "25%        4.710000      4.720000      2.910000  \n",
       "50%        5.700000      5.710000      3.530000  \n",
       "75%        6.540000      6.540000      4.040000  \n",
       "max       10.740000     58.900000     31.800000  "
      ]
     },
     "execution_count": 3,
     "metadata": {},
     "output_type": "execute_result"
    }
   ],
   "source": [
    "diamonddf.describe()"
   ]
  },
  {
   "cell_type": "code",
   "execution_count": 4,
   "id": "aac800e5-b920-4c87-82e0-db0a5afea4ac",
   "metadata": {},
   "outputs": [
    {
     "name": "stdout",
     "output_type": "stream",
     "text": [
      "<class 'pandas.core.frame.DataFrame'>\n",
      "RangeIndex: 53940 entries, 0 to 53939\n",
      "Data columns (total 11 columns):\n",
      " #   Column      Non-Null Count  Dtype  \n",
      "---  ------      --------------  -----  \n",
      " 0   Unnamed: 0  53940 non-null  int64  \n",
      " 1   carat       53940 non-null  float64\n",
      " 2   cut         53940 non-null  object \n",
      " 3   color       53940 non-null  object \n",
      " 4   clarity     53940 non-null  object \n",
      " 5   depth       53940 non-null  float64\n",
      " 6   table       53940 non-null  float64\n",
      " 7   price       53940 non-null  int64  \n",
      " 8   x           53940 non-null  float64\n",
      " 9   y           53940 non-null  float64\n",
      " 10  z           53940 non-null  float64\n",
      "dtypes: float64(6), int64(2), object(3)\n",
      "memory usage: 4.5+ MB\n"
     ]
    }
   ],
   "source": [
    "diamonddf.info()"
   ]
  },
  {
   "cell_type": "code",
   "execution_count": null,
   "id": "b6446f0c-88a7-45e9-ab29-d846ca044df0",
   "metadata": {},
   "outputs": [],
   "source": []
  },
  {
   "cell_type": "code",
   "execution_count": 5,
   "id": "eb4e9e48-f2fb-442d-ac76-f482a7990a14",
   "metadata": {},
   "outputs": [],
   "source": [
    "diamonddf = diamonddf.drop('Unnamed: 0', 1)"
   ]
  },
  {
   "cell_type": "code",
   "execution_count": 6,
   "id": "b26432c5-6732-40b4-9241-96f8e02a0589",
   "metadata": {},
   "outputs": [
    {
     "data": {
      "text/html": [
       "<div>\n",
       "<style scoped>\n",
       "    .dataframe tbody tr th:only-of-type {\n",
       "        vertical-align: middle;\n",
       "    }\n",
       "\n",
       "    .dataframe tbody tr th {\n",
       "        vertical-align: top;\n",
       "    }\n",
       "\n",
       "    .dataframe thead th {\n",
       "        text-align: right;\n",
       "    }\n",
       "</style>\n",
       "<table border=\"1\" class=\"dataframe\">\n",
       "  <thead>\n",
       "    <tr style=\"text-align: right;\">\n",
       "      <th></th>\n",
       "      <th>carat</th>\n",
       "      <th>cut</th>\n",
       "      <th>color</th>\n",
       "      <th>clarity</th>\n",
       "      <th>depth</th>\n",
       "      <th>table</th>\n",
       "      <th>price</th>\n",
       "      <th>x</th>\n",
       "      <th>y</th>\n",
       "      <th>z</th>\n",
       "    </tr>\n",
       "  </thead>\n",
       "  <tbody>\n",
       "    <tr>\n",
       "      <th>0</th>\n",
       "      <td>0.23</td>\n",
       "      <td>Ideal</td>\n",
       "      <td>E</td>\n",
       "      <td>SI2</td>\n",
       "      <td>61.5</td>\n",
       "      <td>55.0</td>\n",
       "      <td>326</td>\n",
       "      <td>3.95</td>\n",
       "      <td>3.98</td>\n",
       "      <td>2.43</td>\n",
       "    </tr>\n",
       "    <tr>\n",
       "      <th>1</th>\n",
       "      <td>0.21</td>\n",
       "      <td>Premium</td>\n",
       "      <td>E</td>\n",
       "      <td>SI1</td>\n",
       "      <td>59.8</td>\n",
       "      <td>61.0</td>\n",
       "      <td>326</td>\n",
       "      <td>3.89</td>\n",
       "      <td>3.84</td>\n",
       "      <td>2.31</td>\n",
       "    </tr>\n",
       "    <tr>\n",
       "      <th>2</th>\n",
       "      <td>0.23</td>\n",
       "      <td>Good</td>\n",
       "      <td>E</td>\n",
       "      <td>VS1</td>\n",
       "      <td>56.9</td>\n",
       "      <td>65.0</td>\n",
       "      <td>327</td>\n",
       "      <td>4.05</td>\n",
       "      <td>4.07</td>\n",
       "      <td>2.31</td>\n",
       "    </tr>\n",
       "    <tr>\n",
       "      <th>3</th>\n",
       "      <td>0.29</td>\n",
       "      <td>Premium</td>\n",
       "      <td>I</td>\n",
       "      <td>VS2</td>\n",
       "      <td>62.4</td>\n",
       "      <td>58.0</td>\n",
       "      <td>334</td>\n",
       "      <td>4.20</td>\n",
       "      <td>4.23</td>\n",
       "      <td>2.63</td>\n",
       "    </tr>\n",
       "    <tr>\n",
       "      <th>4</th>\n",
       "      <td>0.31</td>\n",
       "      <td>Good</td>\n",
       "      <td>J</td>\n",
       "      <td>SI2</td>\n",
       "      <td>63.3</td>\n",
       "      <td>58.0</td>\n",
       "      <td>335</td>\n",
       "      <td>4.34</td>\n",
       "      <td>4.35</td>\n",
       "      <td>2.75</td>\n",
       "    </tr>\n",
       "  </tbody>\n",
       "</table>\n",
       "</div>"
      ],
      "text/plain": [
       "   carat      cut color clarity  depth  table  price     x     y     z\n",
       "0   0.23    Ideal     E     SI2   61.5   55.0    326  3.95  3.98  2.43\n",
       "1   0.21  Premium     E     SI1   59.8   61.0    326  3.89  3.84  2.31\n",
       "2   0.23     Good     E     VS1   56.9   65.0    327  4.05  4.07  2.31\n",
       "3   0.29  Premium     I     VS2   62.4   58.0    334  4.20  4.23  2.63\n",
       "4   0.31     Good     J     SI2   63.3   58.0    335  4.34  4.35  2.75"
      ]
     },
     "execution_count": 6,
     "metadata": {},
     "output_type": "execute_result"
    }
   ],
   "source": [
    "diamonddf.head()"
   ]
  },
  {
   "cell_type": "code",
   "execution_count": 7,
   "id": "0fdf967f-3dd4-47db-bc89-b1f2dd074634",
   "metadata": {},
   "outputs": [
    {
     "data": {
      "text/plain": [
       "<AxesSubplot:title={'center':'Diamond Carat VS Diamond Price'}, xlabel='price', ylabel='carat'>"
      ]
     },
     "execution_count": 7,
     "metadata": {},
     "output_type": "execute_result"
    },
    {
     "data": {
      "image/png": "[encoded data removed]",
      "text/plain": [
       "<Figure size 720x720 with 1 Axes>"
      ]
     },
     "metadata": {
      "needs_background": "light"
     },
     "output_type": "display_data"
    }
   ],
   "source": [
    "diamonddf.plot.scatter('price', 'carat', figsize =(10,10), title = \"Diamond Carat VS Diamond Price\")"
   ]
  },
  {
   "cell_type": "code",
   "execution_count": 151,
   "id": "101316ed-bf36-4b49-a4b9-041459450e21",
   "metadata": {},
   "outputs": [],
   "source": [
    "df = diamonddf.sample(frac = 0.01)"
   ]
  },
  {
   "cell_type": "code",
   "execution_count": 101,
   "id": "a2a2412c",
   "metadata": {},
   "outputs": [
    {
     "data": {
      "text/html": [
       "<div>\n",
       "<style scoped>\n",
       "    .dataframe tbody tr th:only-of-type {\n",
       "        vertical-align: middle;\n",
       "    }\n",
       "\n",
       "    .dataframe tbody tr th {\n",
       "        vertical-align: top;\n",
       "    }\n",
       "\n",
       "    .dataframe thead th {\n",
       "        text-align: right;\n",
       "    }\n",
       "</style>\n",
       "<table border=\"1\" class=\"dataframe\">\n",
       "  <thead>\n",
       "    <tr style=\"text-align: right;\">\n",
       "      <th></th>\n",
       "      <th>cut</th>\n",
       "      <th>color</th>\n",
       "      <th>clarity</th>\n",
       "    </tr>\n",
       "  </thead>\n",
       "  <tbody>\n",
       "    <tr>\n",
       "      <th>count</th>\n",
       "      <td>539</td>\n",
       "      <td>539</td>\n",
       "      <td>539</td>\n",
       "    </tr>\n",
       "    <tr>\n",
       "      <th>unique</th>\n",
       "      <td>5</td>\n",
       "      <td>7</td>\n",
       "      <td>8</td>\n",
       "    </tr>\n",
       "    <tr>\n",
       "      <th>top</th>\n",
       "      <td>Ideal</td>\n",
       "      <td>G</td>\n",
       "      <td>SI1</td>\n",
       "    </tr>\n",
       "    <tr>\n",
       "      <th>freq</th>\n",
       "      <td>221</td>\n",
       "      <td>111</td>\n",
       "      <td>131</td>\n",
       "    </tr>\n",
       "  </tbody>\n",
       "</table>\n",
       "</div>"
      ],
      "text/plain": [
       "          cut color clarity\n",
       "count     539   539     539\n",
       "unique      5     7       8\n",
       "top     Ideal     G     SI1\n",
       "freq      221   111     131"
      ]
     },
     "execution_count": 101,
     "metadata": {},
     "output_type": "execute_result"
    }
   ],
   "source": [
    "df.describe(include='object')"
   ]
  },
  {
   "cell_type": "code",
   "execution_count": 102,
   "id": "ae88e367",
   "metadata": {},
   "outputs": [
    {
     "data": {
      "text/plain": [
       "<AxesSubplot:title={'center':'Diamond Carat VS Diamond Price'}, xlabel='price', ylabel='carat'>"
      ]
     },
     "execution_count": 102,
     "metadata": {},
     "output_type": "execute_result"
    },
    {
     "data": {
      "image/png": "[encoded data removed]",
      "text/plain": [
       "<Figure size 720x720 with 1 Axes>"
      ]
     },
     "metadata": {
      "needs_background": "light"
     },
     "output_type": "display_data"
    }
   ],
   "source": [
    "df.plot.scatter('price', 'carat', figsize =(10,10), title = \"Diamond Carat VS Diamond Price\")"
   ]
  },
  {
   "cell_type": "code",
   "execution_count": 11,
   "id": "eba9cab8",
   "metadata": {},
   "outputs": [
    {
     "data": {
      "text/html": [
       "<div>\n",
       "<style scoped>\n",
       "    .dataframe tbody tr th:only-of-type {\n",
       "        vertical-align: middle;\n",
       "    }\n",
       "\n",
       "    .dataframe tbody tr th {\n",
       "        vertical-align: top;\n",
       "    }\n",
       "\n",
       "    .dataframe thead th {\n",
       "        text-align: right;\n",
       "    }\n",
       "</style>\n",
       "<table border=\"1\" class=\"dataframe\">\n",
       "  <thead>\n",
       "    <tr style=\"text-align: right;\">\n",
       "      <th></th>\n",
       "      <th>carat</th>\n",
       "      <th>depth</th>\n",
       "      <th>table</th>\n",
       "      <th>price</th>\n",
       "      <th>x</th>\n",
       "      <th>y</th>\n",
       "      <th>z</th>\n",
       "    </tr>\n",
       "    <tr>\n",
       "      <th>clarity</th>\n",
       "      <th></th>\n",
       "      <th></th>\n",
       "      <th></th>\n",
       "      <th></th>\n",
       "      <th></th>\n",
       "      <th></th>\n",
       "      <th></th>\n",
       "    </tr>\n",
       "  </thead>\n",
       "  <tbody>\n",
       "    <tr>\n",
       "      <th>I1</th>\n",
       "      <td>20.77</td>\n",
       "      <td>1045.0</td>\n",
       "      <td>983.9</td>\n",
       "      <td>65046</td>\n",
       "      <td>114.05</td>\n",
       "      <td>113.40</td>\n",
       "      <td>69.85</td>\n",
       "    </tr>\n",
       "    <tr>\n",
       "      <th>IF</th>\n",
       "      <td>14.83</td>\n",
       "      <td>1968.3</td>\n",
       "      <td>1799.0</td>\n",
       "      <td>90970</td>\n",
       "      <td>155.45</td>\n",
       "      <td>156.04</td>\n",
       "      <td>95.75</td>\n",
       "    </tr>\n",
       "    <tr>\n",
       "      <th>SI1</th>\n",
       "      <td>243.96</td>\n",
       "      <td>18067.5</td>\n",
       "      <td>16964.2</td>\n",
       "      <td>1119459</td>\n",
       "      <td>1718.00</td>\n",
       "      <td>1718.97</td>\n",
       "      <td>1059.73</td>\n",
       "    </tr>\n",
       "    <tr>\n",
       "      <th>SI2</th>\n",
       "      <td>187.85</td>\n",
       "      <td>10905.1</td>\n",
       "      <td>10315.3</td>\n",
       "      <td>864801</td>\n",
       "      <td>1129.60</td>\n",
       "      <td>1127.92</td>\n",
       "      <td>695.19</td>\n",
       "    </tr>\n",
       "    <tr>\n",
       "      <th>VS1</th>\n",
       "      <td>112.07</td>\n",
       "      <td>10051.3</td>\n",
       "      <td>9358.8</td>\n",
       "      <td>574705</td>\n",
       "      <td>885.66</td>\n",
       "      <td>887.18</td>\n",
       "      <td>546.88</td>\n",
       "    </tr>\n",
       "    <tr>\n",
       "      <th>VS2</th>\n",
       "      <td>169.71</td>\n",
       "      <td>14141.3</td>\n",
       "      <td>13080.3</td>\n",
       "      <td>828805</td>\n",
       "      <td>1288.15</td>\n",
       "      <td>1287.16</td>\n",
       "      <td>795.07</td>\n",
       "    </tr>\n",
       "    <tr>\n",
       "      <th>VVS1</th>\n",
       "      <td>37.63</td>\n",
       "      <td>4432.4</td>\n",
       "      <td>4113.0</td>\n",
       "      <td>192808</td>\n",
       "      <td>361.04</td>\n",
       "      <td>362.38</td>\n",
       "      <td>222.65</td>\n",
       "    </tr>\n",
       "    <tr>\n",
       "      <th>VVS2</th>\n",
       "      <td>59.89</td>\n",
       "      <td>5924.9</td>\n",
       "      <td>5466.6</td>\n",
       "      <td>353851</td>\n",
       "      <td>506.13</td>\n",
       "      <td>506.90</td>\n",
       "      <td>312.48</td>\n",
       "    </tr>\n",
       "  </tbody>\n",
       "</table>\n",
       "</div>"
      ],
      "text/plain": [
       "          carat    depth    table    price        x        y        z\n",
       "clarity                                                              \n",
       "I1        20.77   1045.0    983.9    65046   114.05   113.40    69.85\n",
       "IF        14.83   1968.3   1799.0    90970   155.45   156.04    95.75\n",
       "SI1      243.96  18067.5  16964.2  1119459  1718.00  1718.97  1059.73\n",
       "SI2      187.85  10905.1  10315.3   864801  1129.60  1127.92   695.19\n",
       "VS1      112.07  10051.3   9358.8   574705   885.66   887.18   546.88\n",
       "VS2      169.71  14141.3  13080.3   828805  1288.15  1287.16   795.07\n",
       "VVS1      37.63   4432.4   4113.0   192808   361.04   362.38   222.65\n",
       "VVS2      59.89   5924.9   5466.6   353851   506.13   506.90   312.48"
      ]
     },
     "execution_count": 11,
     "metadata": {},
     "output_type": "execute_result"
    }
   ],
   "source": [
    "claritydf = df.groupby('clarity').sum()\n",
    "claritydf"
   ]
  },
  {
   "cell_type": "code",
   "execution_count": 12,
   "id": "b7e25755",
   "metadata": {},
   "outputs": [
    {
     "data": {
      "text/plain": [
       "<AxesSubplot:xlabel='clarity'>"
      ]
     },
     "execution_count": 12,
     "metadata": {},
     "output_type": "execute_result"
    },
    {
     "data": {
      "image/png": "[encoded data removed]",
      "text/plain": [
       "<Figure size 432x288 with 1 Axes>"
      ]
     },
     "metadata": {
      "needs_background": "light"
     },
     "output_type": "display_data"
    }
   ],
   "source": [
    "claritydf.plot.bar(y='price')"
   ]
  },
  {
   "cell_type": "code",
   "execution_count": 13,
   "id": "b675a248-bf41-4bcd-be9a-af6dc39723a5",
   "metadata": {},
   "outputs": [
    {
     "data": {
      "text/plain": [
       "<AxesSubplot:xlabel='clarity'>"
      ]
     },
     "execution_count": 13,
     "metadata": {},
     "output_type": "execute_result"
    },
    {
     "data": {
      "image/png": "[encoded data removed]",
      "text/plain": [
       "<Figure size 432x288 with 1 Axes>"
      ]
     },
     "metadata": {
      "needs_background": "light"
     },
     "output_type": "display_data"
    }
   ],
   "source": [
    "claritydf.plot(y = 'price')"
   ]
  },
  {
   "cell_type": "code",
   "execution_count": 14,
   "id": "1d148456-9b53-47cc-8fbc-3d31b50bcdef",
   "metadata": {},
   "outputs": [
    {
     "data": {
      "text/html": [
       "<div>\n",
       "<style scoped>\n",
       "    .dataframe tbody tr th:only-of-type {\n",
       "        vertical-align: middle;\n",
       "    }\n",
       "\n",
       "    .dataframe tbody tr th {\n",
       "        vertical-align: top;\n",
       "    }\n",
       "\n",
       "    .dataframe thead th {\n",
       "        text-align: right;\n",
       "    }\n",
       "</style>\n",
       "<table border=\"1\" class=\"dataframe\">\n",
       "  <thead>\n",
       "    <tr style=\"text-align: right;\">\n",
       "      <th></th>\n",
       "      <th>carat</th>\n",
       "      <th>depth</th>\n",
       "      <th>table</th>\n",
       "      <th>price</th>\n",
       "      <th>x</th>\n",
       "      <th>y</th>\n",
       "      <th>z</th>\n",
       "    </tr>\n",
       "    <tr>\n",
       "      <th>cut</th>\n",
       "      <th></th>\n",
       "      <th></th>\n",
       "      <th></th>\n",
       "      <th></th>\n",
       "      <th></th>\n",
       "      <th></th>\n",
       "      <th></th>\n",
       "    </tr>\n",
       "  </thead>\n",
       "  <tbody>\n",
       "    <tr>\n",
       "      <th>Fair</th>\n",
       "      <td>29.75</td>\n",
       "      <td>1719.2</td>\n",
       "      <td>1629.0</td>\n",
       "      <td>138863</td>\n",
       "      <td>166.36</td>\n",
       "      <td>164.73</td>\n",
       "      <td>105.51</td>\n",
       "    </tr>\n",
       "    <tr>\n",
       "      <th>Good</th>\n",
       "      <td>74.29</td>\n",
       "      <td>5320.4</td>\n",
       "      <td>5074.2</td>\n",
       "      <td>336149</td>\n",
       "      <td>507.77</td>\n",
       "      <td>508.34</td>\n",
       "      <td>314.13</td>\n",
       "    </tr>\n",
       "    <tr>\n",
       "      <th>Ideal</th>\n",
       "      <td>292.25</td>\n",
       "      <td>26578.0</td>\n",
       "      <td>24135.3</td>\n",
       "      <td>1365593</td>\n",
       "      <td>2351.35</td>\n",
       "      <td>2355.20</td>\n",
       "      <td>1450.93</td>\n",
       "    </tr>\n",
       "    <tr>\n",
       "      <th>Premium</th>\n",
       "      <td>241.67</td>\n",
       "      <td>16868.5</td>\n",
       "      <td>16145.0</td>\n",
       "      <td>1219283</td>\n",
       "      <td>1632.05</td>\n",
       "      <td>1622.65</td>\n",
       "      <td>998.07</td>\n",
       "    </tr>\n",
       "    <tr>\n",
       "      <th>Very Good</th>\n",
       "      <td>208.75</td>\n",
       "      <td>16049.7</td>\n",
       "      <td>15097.6</td>\n",
       "      <td>1030557</td>\n",
       "      <td>1500.55</td>\n",
       "      <td>1509.03</td>\n",
       "      <td>928.96</td>\n",
       "    </tr>\n",
       "  </tbody>\n",
       "</table>\n",
       "</div>"
      ],
      "text/plain": [
       "            carat    depth    table    price        x        y        z\n",
       "cut                                                                    \n",
       "Fair        29.75   1719.2   1629.0   138863   166.36   164.73   105.51\n",
       "Good        74.29   5320.4   5074.2   336149   507.77   508.34   314.13\n",
       "Ideal      292.25  26578.0  24135.3  1365593  2351.35  2355.20  1450.93\n",
       "Premium    241.67  16868.5  16145.0  1219283  1632.05  1622.65   998.07\n",
       "Very Good  208.75  16049.7  15097.6  1030557  1500.55  1509.03   928.96"
      ]
     },
     "execution_count": 14,
     "metadata": {},
     "output_type": "execute_result"
    }
   ],
   "source": [
    "cutdf = df.groupby('cut').sum()\n",
    "cutdf"
   ]
  },
  {
   "cell_type": "code",
   "execution_count": 15,
   "id": "b322cdaf-2946-401a-99ff-e042ce34dbac",
   "metadata": {},
   "outputs": [
    {
     "data": {
      "text/plain": [
       "<AxesSubplot:xlabel='cut'>"
      ]
     },
     "execution_count": 15,
     "metadata": {},
     "output_type": "execute_result"
    },
    {
     "data": {
      "image/png": "[encoded data removed]",
      "text/plain": [
       "<Figure size 432x288 with 1 Axes>"
      ]
     },
     "metadata": {
      "needs_background": "light"
     },
     "output_type": "display_data"
    }
   ],
   "source": [
    "cutdf.plot(y='price')"
   ]
  },
  {
   "cell_type": "code",
   "execution_count": 16,
   "id": "0f6c0e2a-626b-4f0a-97c8-b0783ef7481c",
   "metadata": {},
   "outputs": [
    {
     "data": {
      "text/plain": [
       "<AxesSubplot:xlabel='cut'>"
      ]
     },
     "execution_count": 16,
     "metadata": {},
     "output_type": "execute_result"
    },
    {
     "data": {
      "image/png": "[encoded data removed]",
      "text/plain": [
       "<Figure size 432x288 with 1 Axes>"
      ]
     },
     "metadata": {
      "needs_background": "light"
     },
     "output_type": "display_data"
    }
   ],
   "source": [
    "cutdf.plot.bar(y= 'price')"
   ]
  },
  {
   "cell_type": "code",
   "execution_count": 67,
   "id": "b4277c8a-38de-4aba-a6e4-2864e9a33990",
   "metadata": {},
   "outputs": [
    {
     "data": {
      "text/html": [
       "<div>\n",
       "<style scoped>\n",
       "    .dataframe tbody tr th:only-of-type {\n",
       "        vertical-align: middle;\n",
       "    }\n",
       "\n",
       "    .dataframe tbody tr th {\n",
       "        vertical-align: top;\n",
       "    }\n",
       "\n",
       "    .dataframe thead th {\n",
       "        text-align: right;\n",
       "    }\n",
       "</style>\n",
       "<table border=\"1\" class=\"dataframe\">\n",
       "  <thead>\n",
       "    <tr style=\"text-align: right;\">\n",
       "      <th></th>\n",
       "      <th>carat</th>\n",
       "      <th>depth</th>\n",
       "      <th>table</th>\n",
       "      <th>price</th>\n",
       "      <th>x</th>\n",
       "      <th>y</th>\n",
       "      <th>z</th>\n",
       "    </tr>\n",
       "    <tr>\n",
       "      <th>color</th>\n",
       "      <th></th>\n",
       "      <th></th>\n",
       "      <th></th>\n",
       "      <th></th>\n",
       "      <th></th>\n",
       "      <th></th>\n",
       "      <th></th>\n",
       "    </tr>\n",
       "  </thead>\n",
       "  <tbody>\n",
       "    <tr>\n",
       "      <th>D</th>\n",
       "      <td>73.21</td>\n",
       "      <td>7042.9</td>\n",
       "      <td>6553.0</td>\n",
       "      <td>363985</td>\n",
       "      <td>612.95</td>\n",
       "      <td>613.58</td>\n",
       "      <td>378.77</td>\n",
       "    </tr>\n",
       "    <tr>\n",
       "      <th>E</th>\n",
       "      <td>131.12</td>\n",
       "      <td>11348.7</td>\n",
       "      <td>10625.6</td>\n",
       "      <td>626328</td>\n",
       "      <td>1025.43</td>\n",
       "      <td>1026.25</td>\n",
       "      <td>632.68</td>\n",
       "    </tr>\n",
       "    <tr>\n",
       "      <th>F</th>\n",
       "      <td>159.51</td>\n",
       "      <td>13101.3</td>\n",
       "      <td>12151.1</td>\n",
       "      <td>844631</td>\n",
       "      <td>1200.18</td>\n",
       "      <td>1201.12</td>\n",
       "      <td>741.92</td>\n",
       "    </tr>\n",
       "    <tr>\n",
       "      <th>G</th>\n",
       "      <td>173.35</td>\n",
       "      <td>13503.9</td>\n",
       "      <td>12589.9</td>\n",
       "      <td>901946</td>\n",
       "      <td>1263.03</td>\n",
       "      <td>1263.58</td>\n",
       "      <td>778.86</td>\n",
       "    </tr>\n",
       "    <tr>\n",
       "      <th>H</th>\n",
       "      <td>171.34</td>\n",
       "      <td>11258.4</td>\n",
       "      <td>10434.0</td>\n",
       "      <td>842355</td>\n",
       "      <td>1100.87</td>\n",
       "      <td>1098.62</td>\n",
       "      <td>680.28</td>\n",
       "    </tr>\n",
       "    <tr>\n",
       "      <th>I</th>\n",
       "      <td>129.45</td>\n",
       "      <td>7196.3</td>\n",
       "      <td>6712.1</td>\n",
       "      <td>643084</td>\n",
       "      <td>749.52</td>\n",
       "      <td>750.07</td>\n",
       "      <td>465.01</td>\n",
       "    </tr>\n",
       "    <tr>\n",
       "      <th>J</th>\n",
       "      <td>63.07</td>\n",
       "      <td>3199.4</td>\n",
       "      <td>3001.0</td>\n",
       "      <td>294231</td>\n",
       "      <td>344.64</td>\n",
       "      <td>345.02</td>\n",
       "      <td>211.85</td>\n",
       "    </tr>\n",
       "  </tbody>\n",
       "</table>\n",
       "</div>"
      ],
      "text/plain": [
       "        carat    depth    table   price        x        y       z\n",
       "color                                                            \n",
       "D       73.21   7042.9   6553.0  363985   612.95   613.58  378.77\n",
       "E      131.12  11348.7  10625.6  626328  1025.43  1026.25  632.68\n",
       "F      159.51  13101.3  12151.1  844631  1200.18  1201.12  741.92\n",
       "G      173.35  13503.9  12589.9  901946  1263.03  1263.58  778.86\n",
       "H      171.34  11258.4  10434.0  842355  1100.87  1098.62  680.28\n",
       "I      129.45   7196.3   6712.1  643084   749.52   750.07  465.01\n",
       "J       63.07   3199.4   3001.0  294231   344.64   345.02  211.85"
      ]
     },
     "execution_count": 67,
     "metadata": {},
     "output_type": "execute_result"
    }
   ],
   "source": [
    "colordf = df.groupby('color').sum()\n",
    "colordf"
   ]
  },
  {
   "cell_type": "code",
   "execution_count": 68,
   "id": "f1ee0b7d-172a-48e6-9ddb-96f5f19d0c53",
   "metadata": {},
   "outputs": [
    {
     "data": {
      "text/plain": [
       "<AxesSubplot:xlabel='color'>"
      ]
     },
     "execution_count": 68,
     "metadata": {},
     "output_type": "execute_result"
    },
    {
     "data": {
      "image/png": "[encoded data removed]",
      "text/plain": [
       "<Figure size 432x288 with 1 Axes>"
      ]
     },
     "metadata": {
      "needs_background": "light"
     },
     "output_type": "display_data"
    }
   ],
   "source": [
    "colordf.plot(y='price')"
   ]
  },
  {
   "cell_type": "code",
   "execution_count": 69,
   "id": "7ac77dba-49e3-4b5e-bd17-01dc44c4ab96",
   "metadata": {},
   "outputs": [
    {
     "data": {
      "text/plain": [
       "<AxesSubplot:xlabel='color'>"
      ]
     },
     "execution_count": 69,
     "metadata": {},
     "output_type": "execute_result"
    },
    {
     "data": {
      "image/png": "[encoded data removed]",
      "text/plain": [
       "<Figure size 432x288 with 1 Axes>"
      ]
     },
     "metadata": {
      "needs_background": "light"
     },
     "output_type": "display_data"
    }
   ],
   "source": [
    "colordf.plot.bar(y= 'price')"
   ]
  },
  {
   "cell_type": "code",
   "execution_count": 70,
   "id": "814dc416-1102-4f08-b84b-2348c5fe46f5",
   "metadata": {},
   "outputs": [],
   "source": [
    "depthdf = df.groupby('depth').sum()"
   ]
  },
  {
   "cell_type": "code",
   "execution_count": 71,
   "id": "a3fe4827-ecaf-4383-b11e-29b00e199a20",
   "metadata": {},
   "outputs": [
    {
     "data": {
      "text/plain": [
       "<AxesSubplot:xlabel='depth'>"
      ]
     },
     "execution_count": 71,
     "metadata": {},
     "output_type": "execute_result"
    },
    {
     "data": {
      "image/png": "[encoded data removed]",
      "text/plain": [
       "<Figure size 432x288 with 1 Axes>"
      ]
     },
     "metadata": {
      "needs_background": "light"
     },
     "output_type": "display_data"
    }
   ],
   "source": [
    "depthdf.plot(y='price')"
   ]
  },
  {
   "cell_type": "code",
   "execution_count": 72,
   "id": "80f25294-7415-46be-889d-9e63acaf3024",
   "metadata": {},
   "outputs": [],
   "source": [
    "tabledf = df.groupby('table').sum()"
   ]
  },
  {
   "cell_type": "code",
   "execution_count": 73,
   "id": "87b7c1dd-8a05-4f83-abc2-3b11d68ef19c",
   "metadata": {},
   "outputs": [
    {
     "data": {
      "text/plain": [
       "<AxesSubplot:xlabel='table'>"
      ]
     },
     "execution_count": 73,
     "metadata": {},
     "output_type": "execute_result"
    },
    {
     "data": {
      "image/png": "[encoded data removed]",
      "text/plain": [
       "<Figure size 432x288 with 1 Axes>"
      ]
     },
     "metadata": {
      "needs_background": "light"
     },
     "output_type": "display_data"
    }
   ],
   "source": [
    "tabledf.plot.bar(y='price')"
   ]
  },
  {
   "cell_type": "code",
   "execution_count": 74,
   "id": "08e0d0c7-4f7a-4b63-8de6-2ad201f31258",
   "metadata": {},
   "outputs": [
    {
     "data": {
      "text/plain": [
       "<AxesSubplot:xlabel='x'>"
      ]
     },
     "execution_count": 74,
     "metadata": {},
     "output_type": "execute_result"
    },
    {
     "data": {
      "image/png": "[encoded data removed]",
      "text/plain": [
       "<Figure size 432x288 with 1 Axes>"
      ]
     },
     "metadata": {
      "needs_background": "light"
     },
     "output_type": "display_data"
    }
   ],
   "source": [
    "xdf= df.groupby('x').sum()\n",
    "xdf.plot()"
   ]
  },
  {
   "cell_type": "code",
   "execution_count": 75,
   "id": "81bd99d8-3881-4568-90c8-18d836b5e83a",
   "metadata": {},
   "outputs": [],
   "source": [
    "def price_clarity():\n",
    "    claritydf = df.groupby('clarity').sum()\n",
    "   \n",
    "    return claritydf.plot.bar(y='price')"
   ]
  },
  {
   "cell_type": "code",
   "execution_count": 76,
   "id": "3af6e7ea-8445-473b-af9f-a0dccf728a23",
   "metadata": {},
   "outputs": [
    {
     "data": {
      "text/plain": [
       "<AxesSubplot:xlabel='clarity'>"
      ]
     },
     "execution_count": 76,
     "metadata": {},
     "output_type": "execute_result"
    },
    {
     "data": {
      "image/png": "[encoded data removed]",
      "text/plain": [
       "<Figure size 432x288 with 1 Axes>"
      ]
     },
     "metadata": {
      "needs_background": "light"
     },
     "output_type": "display_data"
    }
   ],
   "source": [
    "price_clarity()"
   ]
  },
  {
   "cell_type": "code",
   "execution_count": 77,
   "id": "a800ec72-12ef-46a9-9bb9-92e716791d56",
   "metadata": {},
   "outputs": [
    {
     "data": {
      "text/plain": [
       "array([[1.        , 0.90909726],\n",
       "       [0.90909726, 1.        ]])"
      ]
     },
     "execution_count": 77,
     "metadata": {},
     "output_type": "execute_result"
    }
   ],
   "source": [
    "a = np.corrcoef(df['price'],df['carat'])\n",
    "a"
   ]
  },
  {
   "cell_type": "code",
   "execution_count": 78,
   "id": "28504a90-6e38-4114-b913-a4809049803b",
   "metadata": {},
   "outputs": [
    {
     "data": {
      "text/plain": [
       "array([[1.       , 0.1354258],\n",
       "       [0.1354258, 1.       ]])"
      ]
     },
     "execution_count": 78,
     "metadata": {},
     "output_type": "execute_result"
    }
   ],
   "source": [
    "b = np.corrcoef(df['price'],df['table'])\n",
    "b"
   ]
  },
  {
   "cell_type": "code",
   "execution_count": 152,
   "id": "6a551583-122b-4ffb-bdf1-e4e2a8946699",
   "metadata": {},
   "outputs": [],
   "source": [
    "\n",
    "df = df[df['price'] <= 10000]"
   ]
  },
  {
   "cell_type": "code",
   "execution_count": 108,
   "id": "9ea66e1d-2f2b-4f22-b9f2-bc46591497ce",
   "metadata": {},
   "outputs": [
    {
     "data": {
      "text/html": [
       "<div>\n",
       "<style scoped>\n",
       "    .dataframe tbody tr th:only-of-type {\n",
       "        vertical-align: middle;\n",
       "    }\n",
       "\n",
       "    .dataframe tbody tr th {\n",
       "        vertical-align: top;\n",
       "    }\n",
       "\n",
       "    .dataframe thead th {\n",
       "        text-align: right;\n",
       "    }\n",
       "</style>\n",
       "<table border=\"1\" class=\"dataframe\">\n",
       "  <thead>\n",
       "    <tr style=\"text-align: right;\">\n",
       "      <th></th>\n",
       "      <th>carat</th>\n",
       "      <th>depth</th>\n",
       "      <th>table</th>\n",
       "      <th>price</th>\n",
       "      <th>x</th>\n",
       "      <th>y</th>\n",
       "      <th>z</th>\n",
       "    </tr>\n",
       "  </thead>\n",
       "  <tbody>\n",
       "    <tr>\n",
       "      <th>count</th>\n",
       "      <td>488.000000</td>\n",
       "      <td>488.000000</td>\n",
       "      <td>488.000000</td>\n",
       "      <td>488.000000</td>\n",
       "      <td>488.000000</td>\n",
       "      <td>488.000000</td>\n",
       "      <td>488.000000</td>\n",
       "    </tr>\n",
       "    <tr>\n",
       "      <th>mean</th>\n",
       "      <td>0.722684</td>\n",
       "      <td>61.687705</td>\n",
       "      <td>57.392008</td>\n",
       "      <td>3097.487705</td>\n",
       "      <td>5.587561</td>\n",
       "      <td>5.594180</td>\n",
       "      <td>3.451004</td>\n",
       "    </tr>\n",
       "    <tr>\n",
       "      <th>std</th>\n",
       "      <td>0.353310</td>\n",
       "      <td>1.378126</td>\n",
       "      <td>2.294229</td>\n",
       "      <td>2417.126435</td>\n",
       "      <td>0.979884</td>\n",
       "      <td>0.971715</td>\n",
       "      <td>0.605544</td>\n",
       "    </tr>\n",
       "    <tr>\n",
       "      <th>min</th>\n",
       "      <td>0.200000</td>\n",
       "      <td>57.100000</td>\n",
       "      <td>52.000000</td>\n",
       "      <td>367.000000</td>\n",
       "      <td>0.000000</td>\n",
       "      <td>0.000000</td>\n",
       "      <td>0.000000</td>\n",
       "    </tr>\n",
       "    <tr>\n",
       "      <th>25%</th>\n",
       "      <td>0.400000</td>\n",
       "      <td>61.000000</td>\n",
       "      <td>56.000000</td>\n",
       "      <td>940.500000</td>\n",
       "      <td>4.710000</td>\n",
       "      <td>4.730000</td>\n",
       "      <td>2.900000</td>\n",
       "    </tr>\n",
       "    <tr>\n",
       "      <th>50%</th>\n",
       "      <td>0.700000</td>\n",
       "      <td>61.800000</td>\n",
       "      <td>57.000000</td>\n",
       "      <td>2354.000000</td>\n",
       "      <td>5.680000</td>\n",
       "      <td>5.695000</td>\n",
       "      <td>3.530000</td>\n",
       "    </tr>\n",
       "    <tr>\n",
       "      <th>75%</th>\n",
       "      <td>1.010000</td>\n",
       "      <td>62.400000</td>\n",
       "      <td>59.000000</td>\n",
       "      <td>4500.250000</td>\n",
       "      <td>6.420000</td>\n",
       "      <td>6.392500</td>\n",
       "      <td>3.970000</td>\n",
       "    </tr>\n",
       "    <tr>\n",
       "      <th>max</th>\n",
       "      <td>1.790000</td>\n",
       "      <td>66.500000</td>\n",
       "      <td>76.000000</td>\n",
       "      <td>9901.000000</td>\n",
       "      <td>7.790000</td>\n",
       "      <td>7.830000</td>\n",
       "      <td>4.800000</td>\n",
       "    </tr>\n",
       "  </tbody>\n",
       "</table>\n",
       "</div>"
      ],
      "text/plain": [
       "            carat       depth       table        price           x  \\\n",
       "count  488.000000  488.000000  488.000000   488.000000  488.000000   \n",
       "mean     0.722684   61.687705   57.392008  3097.487705    5.587561   \n",
       "std      0.353310    1.378126    2.294229  2417.126435    0.979884   \n",
       "min      0.200000   57.100000   52.000000   367.000000    0.000000   \n",
       "25%      0.400000   61.000000   56.000000   940.500000    4.710000   \n",
       "50%      0.700000   61.800000   57.000000  2354.000000    5.680000   \n",
       "75%      1.010000   62.400000   59.000000  4500.250000    6.420000   \n",
       "max      1.790000   66.500000   76.000000  9901.000000    7.790000   \n",
       "\n",
       "                y           z  \n",
       "count  488.000000  488.000000  \n",
       "mean     5.594180    3.451004  \n",
       "std      0.971715    0.605544  \n",
       "min      0.000000    0.000000  \n",
       "25%      4.730000    2.900000  \n",
       "50%      5.695000    3.530000  \n",
       "75%      6.392500    3.970000  \n",
       "max      7.830000    4.800000  "
      ]
     },
     "execution_count": 108,
     "metadata": {},
     "output_type": "execute_result"
    }
   ],
   "source": [
    "df.describe()"
   ]
  },
  {
   "cell_type": "code",
   "execution_count": 112,
   "id": "61a276c5-693f-4341-9a4f-4608eb2ebad6",
   "metadata": {},
   "outputs": [
    {
     "data": {
      "text/plain": [
       "43442    Premium\n",
       "13892      Ideal\n",
       "6074       Ideal\n",
       "44969      Ideal\n",
       "11109    Premium\n",
       "          ...   \n",
       "38335      Ideal\n",
       "37684    Premium\n",
       "49604       Good\n",
       "44384    Premium\n",
       "21688      Ideal\n",
       "Name: cut, Length: 488, dtype: object"
      ]
     },
     "execution_count": 112,
     "metadata": {},
     "output_type": "execute_result"
    }
   ],
   "source": [
    "df['cut']"
   ]
  },
  {
   "cell_type": "code",
   "execution_count": 22,
   "id": "b7b3e6e6-c567-4e58-a6cb-b0b9d74aae5a",
   "metadata": {},
   "outputs": [
    {
     "data": {
      "text/plain": [
       "<AxesSubplot:title={'center':'Diamond Carat VS Diamond Price'}, xlabel='price', ylabel='carat'>"
      ]
     },
     "execution_count": 22,
     "metadata": {},
     "output_type": "execute_result"
    },
    {
     "data": {
      "image/png": "[encoded data removed]",
      "text/plain": [
       "<Figure size 720x720 with 1 Axes>"
      ]
     },
     "metadata": {
      "needs_background": "light"
     },
     "output_type": "display_data"
    }
   ],
   "source": [
    "df.plot.scatter('price', 'carat', figsize =(10,10), title = \"Diamond Carat VS Diamond Price\")\n"
   ]
  },
  {
   "cell_type": "code",
   "execution_count": 122,
   "id": "749b894a-4795-40d0-92f4-47df4538adf1",
   "metadata": {},
   "outputs": [
    {
     "data": {
      "text/plain": [
       "<seaborn.axisgrid.FacetGrid at 0x7f7b142598e0>"
      ]
     },
     "execution_count": 122,
     "metadata": {},
     "output_type": "execute_result"
    },
    {
     "data": {
      "image/png": "[encoded data removed]",
      "text/plain": [
       "<Figure size 360x360 with 1 Axes>"
      ]
     },
     "metadata": {
      "needs_background": "light"
     },
     "output_type": "display_data"
    }
   ],
   "source": [
    "sns.catplot(x=\"cut\", y=\"price\", kind=\"box\",data=df)"
   ]
  },
  {
   "cell_type": "code",
   "execution_count": null,
   "id": "e19f2794-9183-4d33-b11b-f581d99552f9",
   "metadata": {},
   "outputs": [],
   "source": []
  },
  {
   "cell_type": "code",
   "execution_count": 158,
   "id": "685d0f95-7a83-42d6-8ad3-1f6be35fba50",
   "metadata": {},
   "outputs": [],
   "source": [
    "def price_nonum_characteristic(column):\n",
    "    df2 = df.groupby(column).mean()\n",
    "    df2.plot.bar(y='price', figsize=(6,6),title=('Diamond {} VS Diamond Price'.format(column.capitalize())), xlabel=column, ylabel='Price')\n",
    "    return print(df2)"
   ]
  },
  {
   "cell_type": "code",
   "execution_count": 159,
   "id": "2cfcddab-2bd8-4dd7-b588-09f7bf8a060a",
   "metadata": {},
   "outputs": [
    {
     "name": "stdout",
     "output_type": "stream",
     "text": [
      "             Unnamed: 0     carat      depth      table        price  \\\n",
      "cut                                                                    \n",
      "Fair       32773.235294  0.829412  63.082353  60.705882  2693.941176   \n",
      "Good       30673.317073  0.774390  62.326829  58.875610  3242.146341   \n",
      "Ideal      31073.876923  0.606154  61.728718  55.967692  2355.200000   \n",
      "Premium    25807.956522  0.750087  61.467826  58.652174  3093.660870   \n",
      "Very Good  25723.864407  0.753898  61.958475  57.833051  3257.813559   \n",
      "\n",
      "                  x         y         z  \n",
      "cut                                      \n",
      "Fair       5.832353  5.754118  3.651765  \n",
      "Good       5.709512  5.724390  3.561220  \n",
      "Ideal      5.299846  5.312821  3.260615  \n",
      "Premium    5.654609  5.628435  3.467565  \n",
      "Very Good  5.633644  5.664492  3.499661  \n"
     ]
    },
    {
     "data": {
      "image/png": "[encoded data removed]",
      "text/plain": [
       "<Figure size 432x432 with 1 Axes>"
      ]
     },
     "metadata": {
      "needs_background": "light"
     },
     "output_type": "display_data"
    }
   ],
   "source": [
    "price_nonum_characteristic('cut')"
   ]
  },
  {
   "cell_type": "code",
   "execution_count": 147,
   "id": "a3756cdf-87d1-427d-9d76-9ca5cabe18b4",
   "metadata": {},
   "outputs": [
    {
     "ename": "NameError",
     "evalue": "name 'df2' is not defined",
     "output_type": "error",
     "traceback": [
      "\u001b[0;31m---------------------------------------------------------------------------\u001b[0m",
      "\u001b[0;31mNameError\u001b[0m                                 Traceback (most recent call last)",
      "\u001b[0;32m<ipython-input-147-2068723f1203>\u001b[0m in \u001b[0;36m<module>\u001b[0;34m\u001b[0m\n\u001b[0;32m----> 1\u001b[0;31m \u001b[0mdf2\u001b[0m\u001b[0;34m\u001b[0m\u001b[0;34m\u001b[0m\u001b[0m\n\u001b[0m",
      "\u001b[0;31mNameError\u001b[0m: name 'df2' is not defined"
     ]
    }
   ],
   "source": []
  },
  {
   "cell_type": "code",
   "execution_count": 94,
   "id": "8e26f975-4b4d-490e-9583-afec9352a1b3",
   "metadata": {},
   "outputs": [
    {
     "data": {
      "image/png": "[encoded data removed]",
      "text/plain": [
       "<Figure size 432x432 with 1 Axes>"
      ]
     },
     "metadata": {
      "needs_background": "light"
     },
     "output_type": "display_data"
    }
   ],
   "source": []
  },
  {
   "cell_type": "code",
   "execution_count": null,
   "id": "e4356db7-78b1-46f0-aaae-afb7873b8529",
   "metadata": {},
   "outputs": [],
   "source": []
  }
 ],
 "metadata": {
  "kernelspec": {
   "display_name": "Python 3",
   "language": "python",
   "name": "python3"
  },
  "language_info": {
   "codemirror_mode": {
    "name": "ipython",
    "version": 3
   },
   "file_extension": ".py",
   "mimetype": "text/x-python",
   "name": "python",
   "nbconvert_exporter": "python",
   "pygments_lexer": "ipython3",
   "version": "3.8.8"
  }
 },
 "nbformat": 4,
 "nbformat_minor": 5
}
